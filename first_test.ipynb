F.<z> = QuadraticField(-3)

def t(a):
    if a == 0: 
        return 0
    else:
        return F(a).norm()/a

def f(a,b):
    return int(a*t(a) + b*t(b))

S = [ 1, 2, 3, 5, 6, 7, 10, 13, 14, 15]
T = []


for a in range(-10,30):
    if len(T) == 10:
        break
    for b in range(-10,30):
        if len(T) == 10:
            break
        for c in range(a,30):
            if len(T) == 10:
                break
            for d in range(-10,30):

                x = a+b*z
                y = c+d*z
                s = f(x,y)
 
                
                if s in S and s not in T:
                    print(s, x,y)
                    T.append(s)
                    if len(T) == 10:
                        break
                    
print("quack")
